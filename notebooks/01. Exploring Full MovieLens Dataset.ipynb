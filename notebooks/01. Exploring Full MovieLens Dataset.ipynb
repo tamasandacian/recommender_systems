{
 "cells": [
  {
   "cell_type": "markdown",
   "metadata": {},
   "source": [
    "# Exploring Full MovieLens Dataset"
   ]
  },
  {
   "cell_type": "markdown",
   "metadata": {},
   "source": [
    "As the name suggests in this part we will start exploring Full MovieLens dataset for a better understanding of the data we are dealing with. It will serve as an introductory for creating the IMDB Top 250 Clone using Pandas library also known as the simplest recommender, while the rest of material will present the creation of different types of recommender systems e.g collaborative filtering, content-based systems, knwoledge-based and hybrid recommenders. "
   ]
  },
  {
   "cell_type": "markdown",
   "metadata": {},
   "source": [
    "The aforementioned dataset can be found at the following url: https://www.kaggle.com/rounakbanik/the-movies-dataset and contains metadata for all 45,000 movies listed in the Full MovieLens Dataset. The dataset consists of movies released on or before July 2017 containing information about budget, revenue, posters, release dates, languages, production companies, countries, TMDB vote counts, vote averages etc."
   ]
  },
  {
   "cell_type": "markdown",
   "metadata": {},
   "source": [
    "In this part we will focus on movies_metadata.csv file, and start analyzing data using pandas library to have a better understanding of the dataset we are dealing with. In the later chapters we will look as well on other datasets."
   ]
  },
  {
   "cell_type": "code",
   "execution_count": 1,
   "metadata": {},
   "outputs": [],
   "source": [
    "# Import required libraries\n",
    "import pandas as pd"
   ]
  },
  {
   "cell_type": "code",
   "execution_count": 2,
   "metadata": {},
   "outputs": [
    {
     "name": "stderr",
     "output_type": "stream",
     "text": [
      "/home/dacy/.local/lib/python3.6/site-packages/IPython/core/interactiveshell.py:3049: DtypeWarning: Columns (10) have mixed types. Specify dtype option on import or set low_memory=False.\n",
      "  interactivity=interactivity, compiler=compiler, result=result)\n"
     ]
    }
   ],
   "source": [
    "# Read the CSV file (dataset) into DataFrame\n",
    "df = pd.read_csv('../datasets/movies_metadata.csv')"
   ]
  },
  {
   "cell_type": "code",
   "execution_count": 3,
   "metadata": {},
   "outputs": [
    {
     "data": {
      "text/html": [
       "<div>\n",
       "<style scoped>\n",
       "    .dataframe tbody tr th:only-of-type {\n",
       "        vertical-align: middle;\n",
       "    }\n",
       "\n",
       "    .dataframe tbody tr th {\n",
       "        vertical-align: top;\n",
       "    }\n",
       "\n",
       "    .dataframe thead th {\n",
       "        text-align: right;\n",
       "    }\n",
       "</style>\n",
       "<table border=\"1\" class=\"dataframe\">\n",
       "  <thead>\n",
       "    <tr style=\"text-align: right;\">\n",
       "      <th></th>\n",
       "      <th>adult</th>\n",
       "      <th>belongs_to_collection</th>\n",
       "      <th>budget</th>\n",
       "      <th>genres</th>\n",
       "      <th>homepage</th>\n",
       "      <th>id</th>\n",
       "      <th>imdb_id</th>\n",
       "      <th>original_language</th>\n",
       "      <th>original_title</th>\n",
       "      <th>overview</th>\n",
       "      <th>...</th>\n",
       "      <th>release_date</th>\n",
       "      <th>revenue</th>\n",
       "      <th>runtime</th>\n",
       "      <th>spoken_languages</th>\n",
       "      <th>status</th>\n",
       "      <th>tagline</th>\n",
       "      <th>title</th>\n",
       "      <th>video</th>\n",
       "      <th>vote_average</th>\n",
       "      <th>vote_count</th>\n",
       "    </tr>\n",
       "  </thead>\n",
       "  <tbody>\n",
       "    <tr>\n",
       "      <th>0</th>\n",
       "      <td>False</td>\n",
       "      <td>{'id': 10194, 'name': 'Toy Story Collection', ...</td>\n",
       "      <td>30000000</td>\n",
       "      <td>[{'id': 16, 'name': 'Animation'}, {'id': 35, '...</td>\n",
       "      <td>http://toystory.disney.com/toy-story</td>\n",
       "      <td>862</td>\n",
       "      <td>tt0114709</td>\n",
       "      <td>en</td>\n",
       "      <td>Toy Story</td>\n",
       "      <td>Led by Woody, Andy's toys live happily in his ...</td>\n",
       "      <td>...</td>\n",
       "      <td>1995-10-30</td>\n",
       "      <td>373554033.0</td>\n",
       "      <td>81.0</td>\n",
       "      <td>[{'iso_639_1': 'en', 'name': 'English'}]</td>\n",
       "      <td>Released</td>\n",
       "      <td>NaN</td>\n",
       "      <td>Toy Story</td>\n",
       "      <td>False</td>\n",
       "      <td>7.7</td>\n",
       "      <td>5415.0</td>\n",
       "    </tr>\n",
       "    <tr>\n",
       "      <th>1</th>\n",
       "      <td>False</td>\n",
       "      <td>NaN</td>\n",
       "      <td>65000000</td>\n",
       "      <td>[{'id': 12, 'name': 'Adventure'}, {'id': 14, '...</td>\n",
       "      <td>NaN</td>\n",
       "      <td>8844</td>\n",
       "      <td>tt0113497</td>\n",
       "      <td>en</td>\n",
       "      <td>Jumanji</td>\n",
       "      <td>When siblings Judy and Peter discover an encha...</td>\n",
       "      <td>...</td>\n",
       "      <td>1995-12-15</td>\n",
       "      <td>262797249.0</td>\n",
       "      <td>104.0</td>\n",
       "      <td>[{'iso_639_1': 'en', 'name': 'English'}, {'iso...</td>\n",
       "      <td>Released</td>\n",
       "      <td>Roll the dice and unleash the excitement!</td>\n",
       "      <td>Jumanji</td>\n",
       "      <td>False</td>\n",
       "      <td>6.9</td>\n",
       "      <td>2413.0</td>\n",
       "    </tr>\n",
       "    <tr>\n",
       "      <th>2</th>\n",
       "      <td>False</td>\n",
       "      <td>{'id': 119050, 'name': 'Grumpy Old Men Collect...</td>\n",
       "      <td>0</td>\n",
       "      <td>[{'id': 10749, 'name': 'Romance'}, {'id': 35, ...</td>\n",
       "      <td>NaN</td>\n",
       "      <td>15602</td>\n",
       "      <td>tt0113228</td>\n",
       "      <td>en</td>\n",
       "      <td>Grumpier Old Men</td>\n",
       "      <td>A family wedding reignites the ancient feud be...</td>\n",
       "      <td>...</td>\n",
       "      <td>1995-12-22</td>\n",
       "      <td>0.0</td>\n",
       "      <td>101.0</td>\n",
       "      <td>[{'iso_639_1': 'en', 'name': 'English'}]</td>\n",
       "      <td>Released</td>\n",
       "      <td>Still Yelling. Still Fighting. Still Ready for...</td>\n",
       "      <td>Grumpier Old Men</td>\n",
       "      <td>False</td>\n",
       "      <td>6.5</td>\n",
       "      <td>92.0</td>\n",
       "    </tr>\n",
       "    <tr>\n",
       "      <th>3</th>\n",
       "      <td>False</td>\n",
       "      <td>NaN</td>\n",
       "      <td>16000000</td>\n",
       "      <td>[{'id': 35, 'name': 'Comedy'}, {'id': 18, 'nam...</td>\n",
       "      <td>NaN</td>\n",
       "      <td>31357</td>\n",
       "      <td>tt0114885</td>\n",
       "      <td>en</td>\n",
       "      <td>Waiting to Exhale</td>\n",
       "      <td>Cheated on, mistreated and stepped on, the wom...</td>\n",
       "      <td>...</td>\n",
       "      <td>1995-12-22</td>\n",
       "      <td>81452156.0</td>\n",
       "      <td>127.0</td>\n",
       "      <td>[{'iso_639_1': 'en', 'name': 'English'}]</td>\n",
       "      <td>Released</td>\n",
       "      <td>Friends are the people who let you be yourself...</td>\n",
       "      <td>Waiting to Exhale</td>\n",
       "      <td>False</td>\n",
       "      <td>6.1</td>\n",
       "      <td>34.0</td>\n",
       "    </tr>\n",
       "    <tr>\n",
       "      <th>4</th>\n",
       "      <td>False</td>\n",
       "      <td>{'id': 96871, 'name': 'Father of the Bride Col...</td>\n",
       "      <td>0</td>\n",
       "      <td>[{'id': 35, 'name': 'Comedy'}]</td>\n",
       "      <td>NaN</td>\n",
       "      <td>11862</td>\n",
       "      <td>tt0113041</td>\n",
       "      <td>en</td>\n",
       "      <td>Father of the Bride Part II</td>\n",
       "      <td>Just when George Banks has recovered from his ...</td>\n",
       "      <td>...</td>\n",
       "      <td>1995-02-10</td>\n",
       "      <td>76578911.0</td>\n",
       "      <td>106.0</td>\n",
       "      <td>[{'iso_639_1': 'en', 'name': 'English'}]</td>\n",
       "      <td>Released</td>\n",
       "      <td>Just When His World Is Back To Normal... He's ...</td>\n",
       "      <td>Father of the Bride Part II</td>\n",
       "      <td>False</td>\n",
       "      <td>5.7</td>\n",
       "      <td>173.0</td>\n",
       "    </tr>\n",
       "  </tbody>\n",
       "</table>\n",
       "<p>5 rows × 24 columns</p>\n",
       "</div>"
      ],
      "text/plain": [
       "   adult                              belongs_to_collection    budget  \\\n",
       "0  False  {'id': 10194, 'name': 'Toy Story Collection', ...  30000000   \n",
       "1  False                                                NaN  65000000   \n",
       "2  False  {'id': 119050, 'name': 'Grumpy Old Men Collect...         0   \n",
       "3  False                                                NaN  16000000   \n",
       "4  False  {'id': 96871, 'name': 'Father of the Bride Col...         0   \n",
       "\n",
       "                                              genres  \\\n",
       "0  [{'id': 16, 'name': 'Animation'}, {'id': 35, '...   \n",
       "1  [{'id': 12, 'name': 'Adventure'}, {'id': 14, '...   \n",
       "2  [{'id': 10749, 'name': 'Romance'}, {'id': 35, ...   \n",
       "3  [{'id': 35, 'name': 'Comedy'}, {'id': 18, 'nam...   \n",
       "4                     [{'id': 35, 'name': 'Comedy'}]   \n",
       "\n",
       "                               homepage     id    imdb_id original_language  \\\n",
       "0  http://toystory.disney.com/toy-story    862  tt0114709                en   \n",
       "1                                   NaN   8844  tt0113497                en   \n",
       "2                                   NaN  15602  tt0113228                en   \n",
       "3                                   NaN  31357  tt0114885                en   \n",
       "4                                   NaN  11862  tt0113041                en   \n",
       "\n",
       "                original_title  \\\n",
       "0                    Toy Story   \n",
       "1                      Jumanji   \n",
       "2             Grumpier Old Men   \n",
       "3            Waiting to Exhale   \n",
       "4  Father of the Bride Part II   \n",
       "\n",
       "                                            overview    ...     release_date  \\\n",
       "0  Led by Woody, Andy's toys live happily in his ...    ...       1995-10-30   \n",
       "1  When siblings Judy and Peter discover an encha...    ...       1995-12-15   \n",
       "2  A family wedding reignites the ancient feud be...    ...       1995-12-22   \n",
       "3  Cheated on, mistreated and stepped on, the wom...    ...       1995-12-22   \n",
       "4  Just when George Banks has recovered from his ...    ...       1995-02-10   \n",
       "\n",
       "       revenue runtime                                   spoken_languages  \\\n",
       "0  373554033.0    81.0           [{'iso_639_1': 'en', 'name': 'English'}]   \n",
       "1  262797249.0   104.0  [{'iso_639_1': 'en', 'name': 'English'}, {'iso...   \n",
       "2          0.0   101.0           [{'iso_639_1': 'en', 'name': 'English'}]   \n",
       "3   81452156.0   127.0           [{'iso_639_1': 'en', 'name': 'English'}]   \n",
       "4   76578911.0   106.0           [{'iso_639_1': 'en', 'name': 'English'}]   \n",
       "\n",
       "     status                                            tagline  \\\n",
       "0  Released                                                NaN   \n",
       "1  Released          Roll the dice and unleash the excitement!   \n",
       "2  Released  Still Yelling. Still Fighting. Still Ready for...   \n",
       "3  Released  Friends are the people who let you be yourself...   \n",
       "4  Released  Just When His World Is Back To Normal... He's ...   \n",
       "\n",
       "                         title  video vote_average vote_count  \n",
       "0                    Toy Story  False          7.7     5415.0  \n",
       "1                      Jumanji  False          6.9     2413.0  \n",
       "2             Grumpier Old Men  False          6.5       92.0  \n",
       "3            Waiting to Exhale  False          6.1       34.0  \n",
       "4  Father of the Bride Part II  False          5.7      173.0  \n",
       "\n",
       "[5 rows x 24 columns]"
      ]
     },
     "execution_count": 3,
     "metadata": {},
     "output_type": "execute_result"
    }
   ],
   "source": [
    "# Read the first 5 movies or occurencies\n",
    "df.head()"
   ]
  },
  {
   "cell_type": "markdown",
   "metadata": {},
   "source": [
    "We can see that our dataset contains 24 columns or features where each row representing a movie. To understand better our data we will make use of the Pandas built-in functions and methods."
   ]
  },
  {
   "cell_type": "code",
   "execution_count": 4,
   "metadata": {},
   "outputs": [
    {
     "data": {
      "text/plain": [
       "(45466, 24)"
      ]
     },
     "execution_count": 4,
     "metadata": {},
     "output_type": "execute_result"
    }
   ],
   "source": [
    "# Output the shape of df\n",
    "df.shape"
   ]
  },
  {
   "cell_type": "markdown",
   "metadata": {},
   "source": [
    "Using df.shape we can see that we are dealing with over 45000 movie records. We can also see that we have 24 columns. Each column represents a feature or a piece of metadata about the movie."
   ]
  },
  {
   "cell_type": "markdown",
   "metadata": {},
   "source": [
    "To understand the features we are working with, we run the following code:"
   ]
  },
  {
   "cell_type": "code",
   "execution_count": 5,
   "metadata": {},
   "outputs": [
    {
     "data": {
      "text/plain": [
       "Index(['adult', 'belongs_to_collection', 'budget', 'genres', 'homepage', 'id',\n",
       "       'imdb_id', 'original_language', 'original_title', 'overview',\n",
       "       'popularity', 'poster_path', 'production_companies',\n",
       "       'production_countries', 'release_date', 'revenue', 'runtime',\n",
       "       'spoken_languages', 'status', 'tagline', 'title', 'video',\n",
       "       'vote_average', 'vote_count'],\n",
       "      dtype='object')"
      ]
     },
     "execution_count": 5,
     "metadata": {},
     "output_type": "execute_result"
    }
   ],
   "source": [
    "# Output the columns of df\n",
    "df.columns"
   ]
  },
  {
   "cell_type": "markdown",
   "metadata": {},
   "source": [
    "We can see that we have a lot of information on these movies, including their title, budget, genres, release date, and revenue. Next, we will start accessing a particular movie. The first way to do this is by using .iloc method.\n",
    "This will allow us to select rows based on the numeric position (starting from zero)."
   ]
  },
  {
   "cell_type": "code",
   "execution_count": 6,
   "metadata": {},
   "outputs": [
    {
     "data": {
      "text/plain": [
       "adult                                                                False\n",
       "belongs_to_collection                                                  NaN\n",
       "budget                                                            65000000\n",
       "genres                   [{'id': 12, 'name': 'Adventure'}, {'id': 14, '...\n",
       "homepage                                                               NaN\n",
       "id                                                                    8844\n",
       "imdb_id                                                          tt0113497\n",
       "original_language                                                       en\n",
       "original_title                                                     Jumanji\n",
       "overview                 When siblings Judy and Peter discover an encha...\n",
       "popularity                                                         17.0155\n",
       "poster_path                               /vzmL6fP7aPKNKPRTFnZmiUfciyV.jpg\n",
       "production_companies     [{'name': 'TriStar Pictures', 'id': 559}, {'na...\n",
       "production_countries     [{'iso_3166_1': 'US', 'name': 'United States o...\n",
       "release_date                                                    1995-12-15\n",
       "revenue                                                        2.62797e+08\n",
       "runtime                                                                104\n",
       "spoken_languages         [{'iso_639_1': 'en', 'name': 'English'}, {'iso...\n",
       "status                                                            Released\n",
       "tagline                          Roll the dice and unleash the excitement!\n",
       "title                                                              Jumanji\n",
       "video                                                                False\n",
       "vote_average                                                           6.9\n",
       "vote_count                                                            2413\n",
       "Name: 1, dtype: object"
      ]
     },
     "execution_count": 6,
     "metadata": {},
     "output_type": "execute_result"
    }
   ],
   "source": [
    "# To access the second movie in the DataFrame\n",
    "df.iloc[1]"
   ]
  },
  {
   "cell_type": "markdown",
   "metadata": {},
   "source": [
    "The output gives us information about the movie on each of its 24 features. We can see that the accessed movie on second position refers to 'Jumanji' which was released on 1995-12-15 among other things."
   ]
  },
  {
   "cell_type": "markdown",
   "metadata": {},
   "source": [
    "The second way to do it is by accessing the DataFrame index. In order to do that we need to set the index to the tile of the movie and try to access 'Jumanji' using its this index."
   ]
  },
  {
   "cell_type": "code",
   "execution_count": 7,
   "metadata": {},
   "outputs": [],
   "source": [
    "# Change the index to the title\n",
    "df = df.set_index('title')"
   ]
  },
  {
   "cell_type": "code",
   "execution_count": 8,
   "metadata": {},
   "outputs": [
    {
     "data": {
      "text/plain": [
       "adult                                                                False\n",
       "belongs_to_collection                                                  NaN\n",
       "budget                                                            65000000\n",
       "genres                   [{'id': 12, 'name': 'Adventure'}, {'id': 14, '...\n",
       "homepage                                                               NaN\n",
       "id                                                                    8844\n",
       "imdb_id                                                          tt0113497\n",
       "original_language                                                       en\n",
       "original_title                                                     Jumanji\n",
       "overview                 When siblings Judy and Peter discover an encha...\n",
       "popularity                                                         17.0155\n",
       "poster_path                               /vzmL6fP7aPKNKPRTFnZmiUfciyV.jpg\n",
       "production_companies     [{'name': 'TriStar Pictures', 'id': 559}, {'na...\n",
       "production_countries     [{'iso_3166_1': 'US', 'name': 'United States o...\n",
       "release_date                                                    1995-12-15\n",
       "revenue                                                        2.62797e+08\n",
       "runtime                                                                104\n",
       "spoken_languages         [{'iso_639_1': 'en', 'name': 'English'}, {'iso...\n",
       "status                                                            Released\n",
       "tagline                          Roll the dice and unleash the excitement!\n",
       "video                                                                False\n",
       "vote_average                                                           6.9\n",
       "vote_count                                                            2413\n",
       "Name: Jumanji, dtype: object"
      ]
     },
     "execution_count": 8,
     "metadata": {},
     "output_type": "execute_result"
    }
   ],
   "source": [
    "# Access the movie with title 'Jumanji'\n",
    "df.loc['Jumanji']"
   ]
  },
  {
   "cell_type": "markdown",
   "metadata": {},
   "source": [
    "Using .loc we should see an output identical to the previous cell. We will revert it back to our zero-based numeric index:\n"
   ]
  },
  {
   "cell_type": "code",
   "execution_count": 9,
   "metadata": {},
   "outputs": [],
   "source": [
    "# Revert back to the previous zero-based index\n",
    "df = df.reset_index()"
   ]
  },
  {
   "cell_type": "markdown",
   "metadata": {},
   "source": [
    "In order to make a simple analysis on our dataset, we will create a smaller DataFrame with fewer columns. The given DataFrame will contain data on the following features: title, release_date, budget, revenue, runtime, and genres"
   ]
  },
  {
   "cell_type": "code",
   "execution_count": 10,
   "metadata": {},
   "outputs": [],
   "source": [
    "# Create a smaller DataFrame with the following features: title, release_date, budget, revenue, runtime, genres\n",
    "movie_df = df[['title', 'release_date', 'budget', 'revenue', 'runtime', 'genres']]"
   ]
  },
  {
   "cell_type": "code",
   "execution_count": 11,
   "metadata": {},
   "outputs": [
    {
     "data": {
      "text/html": [
       "<div>\n",
       "<style scoped>\n",
       "    .dataframe tbody tr th:only-of-type {\n",
       "        vertical-align: middle;\n",
       "    }\n",
       "\n",
       "    .dataframe tbody tr th {\n",
       "        vertical-align: top;\n",
       "    }\n",
       "\n",
       "    .dataframe thead th {\n",
       "        text-align: right;\n",
       "    }\n",
       "</style>\n",
       "<table border=\"1\" class=\"dataframe\">\n",
       "  <thead>\n",
       "    <tr style=\"text-align: right;\">\n",
       "      <th></th>\n",
       "      <th>title</th>\n",
       "      <th>release_date</th>\n",
       "      <th>budget</th>\n",
       "      <th>revenue</th>\n",
       "      <th>runtime</th>\n",
       "      <th>genres</th>\n",
       "    </tr>\n",
       "  </thead>\n",
       "  <tbody>\n",
       "    <tr>\n",
       "      <th>0</th>\n",
       "      <td>Toy Story</td>\n",
       "      <td>1995-10-30</td>\n",
       "      <td>30000000</td>\n",
       "      <td>373554033.0</td>\n",
       "      <td>81.0</td>\n",
       "      <td>[{'id': 16, 'name': 'Animation'}, {'id': 35, '...</td>\n",
       "    </tr>\n",
       "    <tr>\n",
       "      <th>1</th>\n",
       "      <td>Jumanji</td>\n",
       "      <td>1995-12-15</td>\n",
       "      <td>65000000</td>\n",
       "      <td>262797249.0</td>\n",
       "      <td>104.0</td>\n",
       "      <td>[{'id': 12, 'name': 'Adventure'}, {'id': 14, '...</td>\n",
       "    </tr>\n",
       "    <tr>\n",
       "      <th>2</th>\n",
       "      <td>Grumpier Old Men</td>\n",
       "      <td>1995-12-22</td>\n",
       "      <td>0</td>\n",
       "      <td>0.0</td>\n",
       "      <td>101.0</td>\n",
       "      <td>[{'id': 10749, 'name': 'Romance'}, {'id': 35, ...</td>\n",
       "    </tr>\n",
       "    <tr>\n",
       "      <th>3</th>\n",
       "      <td>Waiting to Exhale</td>\n",
       "      <td>1995-12-22</td>\n",
       "      <td>16000000</td>\n",
       "      <td>81452156.0</td>\n",
       "      <td>127.0</td>\n",
       "      <td>[{'id': 35, 'name': 'Comedy'}, {'id': 18, 'nam...</td>\n",
       "    </tr>\n",
       "    <tr>\n",
       "      <th>4</th>\n",
       "      <td>Father of the Bride Part II</td>\n",
       "      <td>1995-02-10</td>\n",
       "      <td>0</td>\n",
       "      <td>76578911.0</td>\n",
       "      <td>106.0</td>\n",
       "      <td>[{'id': 35, 'name': 'Comedy'}]</td>\n",
       "    </tr>\n",
       "  </tbody>\n",
       "</table>\n",
       "</div>"
      ],
      "text/plain": [
       "                         title release_date    budget      revenue  runtime  \\\n",
       "0                    Toy Story   1995-10-30  30000000  373554033.0     81.0   \n",
       "1                      Jumanji   1995-12-15  65000000  262797249.0    104.0   \n",
       "2             Grumpier Old Men   1995-12-22         0          0.0    101.0   \n",
       "3            Waiting to Exhale   1995-12-22  16000000   81452156.0    127.0   \n",
       "4  Father of the Bride Part II   1995-02-10         0   76578911.0    106.0   \n",
       "\n",
       "                                              genres  \n",
       "0  [{'id': 16, 'name': 'Animation'}, {'id': 35, '...  \n",
       "1  [{'id': 12, 'name': 'Adventure'}, {'id': 14, '...  \n",
       "2  [{'id': 10749, 'name': 'Romance'}, {'id': 35, ...  \n",
       "3  [{'id': 35, 'name': 'Comedy'}, {'id': 18, 'nam...  \n",
       "4                     [{'id': 35, 'name': 'Comedy'}]  "
      ]
     },
     "execution_count": 11,
     "metadata": {},
     "output_type": "execute_result"
    }
   ],
   "source": [
    "# Read the first 5 occurencies\n",
    "movie_df.head()"
   ]
  },
  {
   "cell_type": "markdown",
   "metadata": {},
   "source": [
    "We can see that the newly generated DataFrame contains movie data regarding: title, release_date, budget, revenue, runtime, genres"
   ]
  },
  {
   "cell_type": "markdown",
   "metadata": {},
   "source": [
    "Next we will take a look at the data types of our various features"
   ]
  },
  {
   "cell_type": "code",
   "execution_count": 12,
   "metadata": {},
   "outputs": [
    {
     "name": "stdout",
     "output_type": "stream",
     "text": [
      "<class 'pandas.core.frame.DataFrame'>\n",
      "RangeIndex: 45466 entries, 0 to 45465\n",
      "Data columns (total 6 columns):\n",
      "title           45460 non-null object\n",
      "release_date    45379 non-null object\n",
      "budget          45466 non-null object\n",
      "revenue         45460 non-null float64\n",
      "runtime         45203 non-null float64\n",
      "genres          45466 non-null object\n",
      "dtypes: float64(2), object(4)\n",
      "memory usage: 2.1+ MB\n"
     ]
    }
   ],
   "source": [
    "# Check data types for each of the features (column names)\n",
    "movie_df.info()"
   ]
  },
  {
   "cell_type": "markdown",
   "metadata": {},
   "source": [
    "Looking at each of the feature we can see that 'revenue' and 'runtime' are of type float64 while the rest of them are of type object. However we can change the type for the 'budget' feature to float data type."
   ]
  },
  {
   "cell_type": "code",
   "execution_count": 13,
   "metadata": {},
   "outputs": [],
   "source": [
    "# Convert budget to float\n",
    "# df['budget'] = df['budget'].astype('float')"
   ]
  },
  {
   "cell_type": "markdown",
   "metadata": {},
   "source": [
    "By running the precedent code, the cell will throw a ValuError. From the given error we understand that one of the record or budget fields had a '/zasf...' string as its value. Therefore, pandas was unable to convert it into a floating number."
   ]
  },
  {
   "cell_type": "markdown",
   "metadata": {},
   "source": [
    "To solve this problem, we will use the apply() method. This will allow us to apply a function to every field in a particular column and convert it into a return value. We will convert every number field in 'budget' to float and if it fails then we will convert it to a NaN value."
   ]
  },
  {
   "cell_type": "code",
   "execution_count": 14,
   "metadata": {},
   "outputs": [],
   "source": [
    "# Import required library\n",
    "import numpy as np"
   ]
  },
  {
   "cell_type": "code",
   "execution_count": 15,
   "metadata": {},
   "outputs": [],
   "source": [
    "# Function to convert to float manually\n",
    "def to_float(x):\n",
    "    try:\n",
    "        x = float(x)\n",
    "    except:\n",
    "        x = np.nan\n",
    "    return x"
   ]
  },
  {
   "cell_type": "code",
   "execution_count": 16,
   "metadata": {},
   "outputs": [
    {
     "name": "stderr",
     "output_type": "stream",
     "text": [
      "/home/dacy/.local/lib/python3.6/site-packages/ipykernel_launcher.py:2: SettingWithCopyWarning: \n",
      "A value is trying to be set on a copy of a slice from a DataFrame.\n",
      "Try using .loc[row_indexer,col_indexer] = value instead\n",
      "\n",
      "See the caveats in the documentation: http://pandas.pydata.org/pandas-docs/stable/indexing.html#indexing-view-versus-copy\n",
      "  \n"
     ]
    }
   ],
   "source": [
    "# Apply to_float function to all values in the budget column\n",
    "movie_df['budget'] = movie_df['budget'].apply(to_float)"
   ]
  },
  {
   "cell_type": "code",
   "execution_count": 17,
   "metadata": {},
   "outputs": [
    {
     "name": "stderr",
     "output_type": "stream",
     "text": [
      "/home/dacy/.local/lib/python3.6/site-packages/ipykernel_launcher.py:2: SettingWithCopyWarning: \n",
      "A value is trying to be set on a copy of a slice from a DataFrame.\n",
      "Try using .loc[row_indexer,col_indexer] = value instead\n",
      "\n",
      "See the caveats in the documentation: http://pandas.pydata.org/pandas-docs/stable/indexing.html#indexing-view-versus-copy\n",
      "  \n"
     ]
    }
   ],
   "source": [
    "# Try converting to float using pandas astype\n",
    "movie_df['budget'] = movie_df['budget'].astype('float')"
   ]
  },
  {
   "cell_type": "code",
   "execution_count": 18,
   "metadata": {},
   "outputs": [
    {
     "name": "stdout",
     "output_type": "stream",
     "text": [
      "<class 'pandas.core.frame.DataFrame'>\n",
      "RangeIndex: 45466 entries, 0 to 45465\n",
      "Data columns (total 6 columns):\n",
      "title           45460 non-null object\n",
      "release_date    45379 non-null object\n",
      "budget          45463 non-null float64\n",
      "revenue         45460 non-null float64\n",
      "runtime         45203 non-null float64\n",
      "genres          45466 non-null object\n",
      "dtypes: float64(3), object(3)\n",
      "memory usage: 2.1+ MB\n"
     ]
    }
   ],
   "source": [
    "# Check for the last change\n",
    "movie_df.info()"
   ]
  },
  {
   "cell_type": "markdown",
   "metadata": {},
   "source": [
    "We can see that the 'budget' feature has been changed from object data type to float64."
   ]
  },
  {
   "cell_type": "markdown",
   "metadata": {},
   "source": [
    "We will define a new feature called 'year' that represents the year of release. The recommended way to do this would be by using the datetime functionality that pandas gives us:"
   ]
  },
  {
   "cell_type": "code",
   "execution_count": 19,
   "metadata": {},
   "outputs": [
    {
     "name": "stderr",
     "output_type": "stream",
     "text": [
      "/home/dacy/.local/lib/python3.6/site-packages/ipykernel_launcher.py:2: SettingWithCopyWarning: \n",
      "A value is trying to be set on a copy of a slice from a DataFrame.\n",
      "Try using .loc[row_indexer,col_indexer] = value instead\n",
      "\n",
      "See the caveats in the documentation: http://pandas.pydata.org/pandas-docs/stable/indexing.html#indexing-view-versus-copy\n",
      "  \n"
     ]
    }
   ],
   "source": [
    "# Convert release_date into pandas datetime format\n",
    "movie_df['release_date'] = pd.to_datetime(movie_df['release_date'], errors='coerce')"
   ]
  },
  {
   "cell_type": "code",
   "execution_count": 20,
   "metadata": {},
   "outputs": [
    {
     "name": "stdout",
     "output_type": "stream",
     "text": [
      "<class 'pandas.core.frame.DataFrame'>\n",
      "RangeIndex: 45466 entries, 0 to 45465\n",
      "Data columns (total 6 columns):\n",
      "title           45460 non-null object\n",
      "release_date    45376 non-null datetime64[ns]\n",
      "budget          45463 non-null float64\n",
      "revenue         45460 non-null float64\n",
      "runtime         45203 non-null float64\n",
      "genres          45466 non-null object\n",
      "dtypes: datetime64[ns](1), float64(3), object(2)\n",
      "memory usage: 2.1+ MB\n"
     ]
    }
   ],
   "source": [
    "# Check if release_date is changed from object to datetime\n",
    "movie_df.info()"
   ]
  },
  {
   "cell_type": "code",
   "execution_count": 21,
   "metadata": {},
   "outputs": [
    {
     "name": "stderr",
     "output_type": "stream",
     "text": [
      "/home/dacy/.local/lib/python3.6/site-packages/ipykernel_launcher.py:2: SettingWithCopyWarning: \n",
      "A value is trying to be set on a copy of a slice from a DataFrame.\n",
      "Try using .loc[row_indexer,col_indexer] = value instead\n",
      "\n",
      "See the caveats in the documentation: http://pandas.pydata.org/pandas-docs/stable/indexing.html#indexing-view-versus-copy\n",
      "  \n"
     ]
    }
   ],
   "source": [
    "# Extract 'year' from datetime\n",
    "movie_df['year'] = movie_df['release_date'].apply(lambda x: str(x).split('-')[0] if x != np.nan else np.nan)"
   ]
  },
  {
   "cell_type": "code",
   "execution_count": 22,
   "metadata": {},
   "outputs": [
    {
     "data": {
      "text/html": [
       "<div>\n",
       "<style scoped>\n",
       "    .dataframe tbody tr th:only-of-type {\n",
       "        vertical-align: middle;\n",
       "    }\n",
       "\n",
       "    .dataframe tbody tr th {\n",
       "        vertical-align: top;\n",
       "    }\n",
       "\n",
       "    .dataframe thead th {\n",
       "        text-align: right;\n",
       "    }\n",
       "</style>\n",
       "<table border=\"1\" class=\"dataframe\">\n",
       "  <thead>\n",
       "    <tr style=\"text-align: right;\">\n",
       "      <th></th>\n",
       "      <th>title</th>\n",
       "      <th>release_date</th>\n",
       "      <th>budget</th>\n",
       "      <th>revenue</th>\n",
       "      <th>runtime</th>\n",
       "      <th>genres</th>\n",
       "      <th>year</th>\n",
       "    </tr>\n",
       "  </thead>\n",
       "  <tbody>\n",
       "    <tr>\n",
       "      <th>0</th>\n",
       "      <td>Toy Story</td>\n",
       "      <td>1995-10-30</td>\n",
       "      <td>30000000.0</td>\n",
       "      <td>373554033.0</td>\n",
       "      <td>81.0</td>\n",
       "      <td>[{'id': 16, 'name': 'Animation'}, {'id': 35, '...</td>\n",
       "      <td>1995</td>\n",
       "    </tr>\n",
       "    <tr>\n",
       "      <th>1</th>\n",
       "      <td>Jumanji</td>\n",
       "      <td>1995-12-15</td>\n",
       "      <td>65000000.0</td>\n",
       "      <td>262797249.0</td>\n",
       "      <td>104.0</td>\n",
       "      <td>[{'id': 12, 'name': 'Adventure'}, {'id': 14, '...</td>\n",
       "      <td>1995</td>\n",
       "    </tr>\n",
       "    <tr>\n",
       "      <th>2</th>\n",
       "      <td>Grumpier Old Men</td>\n",
       "      <td>1995-12-22</td>\n",
       "      <td>0.0</td>\n",
       "      <td>0.0</td>\n",
       "      <td>101.0</td>\n",
       "      <td>[{'id': 10749, 'name': 'Romance'}, {'id': 35, ...</td>\n",
       "      <td>1995</td>\n",
       "    </tr>\n",
       "    <tr>\n",
       "      <th>3</th>\n",
       "      <td>Waiting to Exhale</td>\n",
       "      <td>1995-12-22</td>\n",
       "      <td>16000000.0</td>\n",
       "      <td>81452156.0</td>\n",
       "      <td>127.0</td>\n",
       "      <td>[{'id': 35, 'name': 'Comedy'}, {'id': 18, 'nam...</td>\n",
       "      <td>1995</td>\n",
       "    </tr>\n",
       "    <tr>\n",
       "      <th>4</th>\n",
       "      <td>Father of the Bride Part II</td>\n",
       "      <td>1995-02-10</td>\n",
       "      <td>0.0</td>\n",
       "      <td>76578911.0</td>\n",
       "      <td>106.0</td>\n",
       "      <td>[{'id': 35, 'name': 'Comedy'}]</td>\n",
       "      <td>1995</td>\n",
       "    </tr>\n",
       "  </tbody>\n",
       "</table>\n",
       "</div>"
      ],
      "text/plain": [
       "                         title release_date      budget      revenue  runtime  \\\n",
       "0                    Toy Story   1995-10-30  30000000.0  373554033.0     81.0   \n",
       "1                      Jumanji   1995-12-15  65000000.0  262797249.0    104.0   \n",
       "2             Grumpier Old Men   1995-12-22         0.0          0.0    101.0   \n",
       "3            Waiting to Exhale   1995-12-22  16000000.0   81452156.0    127.0   \n",
       "4  Father of the Bride Part II   1995-02-10         0.0   76578911.0    106.0   \n",
       "\n",
       "                                              genres  year  \n",
       "0  [{'id': 16, 'name': 'Animation'}, {'id': 35, '...  1995  \n",
       "1  [{'id': 12, 'name': 'Adventure'}, {'id': 14, '...  1995  \n",
       "2  [{'id': 10749, 'name': 'Romance'}, {'id': 35, ...  1995  \n",
       "3  [{'id': 35, 'name': 'Comedy'}, {'id': 18, 'nam...  1995  \n",
       "4                     [{'id': 35, 'name': 'Comedy'}]  1995  "
      ]
     },
     "execution_count": 22,
     "metadata": {},
     "output_type": "execute_result"
    }
   ],
   "source": [
    "# Display the DataFrame with the new 'year' feature\n",
    "movie_df.head()"
   ]
  },
  {
   "cell_type": "markdown",
   "metadata": {},
   "source": [
    "We can have a deepen understanding of which are the oldest movies available in the dataset? To answer the question, we can sort the DataFrame based on the year of release:"
   ]
  },
  {
   "cell_type": "code",
   "execution_count": 23,
   "metadata": {},
   "outputs": [],
   "source": [
    "# Sort DataFrame based on release year\n",
    "movie_df = movie_df.sort_values('year')"
   ]
  },
  {
   "cell_type": "code",
   "execution_count": 24,
   "metadata": {},
   "outputs": [
    {
     "data": {
      "text/html": [
       "<div>\n",
       "<style scoped>\n",
       "    .dataframe tbody tr th:only-of-type {\n",
       "        vertical-align: middle;\n",
       "    }\n",
       "\n",
       "    .dataframe tbody tr th {\n",
       "        vertical-align: top;\n",
       "    }\n",
       "\n",
       "    .dataframe thead th {\n",
       "        text-align: right;\n",
       "    }\n",
       "</style>\n",
       "<table border=\"1\" class=\"dataframe\">\n",
       "  <thead>\n",
       "    <tr style=\"text-align: right;\">\n",
       "      <th></th>\n",
       "      <th>title</th>\n",
       "      <th>release_date</th>\n",
       "      <th>budget</th>\n",
       "      <th>revenue</th>\n",
       "      <th>runtime</th>\n",
       "      <th>genres</th>\n",
       "      <th>year</th>\n",
       "    </tr>\n",
       "  </thead>\n",
       "  <tbody>\n",
       "    <tr>\n",
       "      <th>34940</th>\n",
       "      <td>Passage of Venus</td>\n",
       "      <td>1874-12-09</td>\n",
       "      <td>0.0</td>\n",
       "      <td>0.0</td>\n",
       "      <td>1.0</td>\n",
       "      <td>[{'id': 99, 'name': 'Documentary'}]</td>\n",
       "      <td>1874</td>\n",
       "    </tr>\n",
       "    <tr>\n",
       "      <th>34937</th>\n",
       "      <td>Sallie Gardner at a Gallop</td>\n",
       "      <td>1878-06-14</td>\n",
       "      <td>0.0</td>\n",
       "      <td>0.0</td>\n",
       "      <td>1.0</td>\n",
       "      <td>[{'id': 99, 'name': 'Documentary'}]</td>\n",
       "      <td>1878</td>\n",
       "    </tr>\n",
       "    <tr>\n",
       "      <th>41602</th>\n",
       "      <td>Buffalo Running</td>\n",
       "      <td>1883-11-19</td>\n",
       "      <td>0.0</td>\n",
       "      <td>0.0</td>\n",
       "      <td>1.0</td>\n",
       "      <td>[{'id': 99, 'name': 'Documentary'}]</td>\n",
       "      <td>1883</td>\n",
       "    </tr>\n",
       "    <tr>\n",
       "      <th>34933</th>\n",
       "      <td>Man Walking Around a Corner</td>\n",
       "      <td>1887-08-18</td>\n",
       "      <td>0.0</td>\n",
       "      <td>0.0</td>\n",
       "      <td>1.0</td>\n",
       "      <td>[{'id': 99, 'name': 'Documentary'}]</td>\n",
       "      <td>1887</td>\n",
       "    </tr>\n",
       "    <tr>\n",
       "      <th>34938</th>\n",
       "      <td>Traffic Crossing Leeds Bridge</td>\n",
       "      <td>1888-10-15</td>\n",
       "      <td>0.0</td>\n",
       "      <td>0.0</td>\n",
       "      <td>1.0</td>\n",
       "      <td>[{'id': 99, 'name': 'Documentary'}]</td>\n",
       "      <td>1888</td>\n",
       "    </tr>\n",
       "    <tr>\n",
       "      <th>34934</th>\n",
       "      <td>Accordion Player</td>\n",
       "      <td>1888-01-01</td>\n",
       "      <td>0.0</td>\n",
       "      <td>0.0</td>\n",
       "      <td>1.0</td>\n",
       "      <td>[{'id': 99, 'name': 'Documentary'}]</td>\n",
       "      <td>1888</td>\n",
       "    </tr>\n",
       "    <tr>\n",
       "      <th>34936</th>\n",
       "      <td>Monkeyshines, No. 2</td>\n",
       "      <td>1890-11-21</td>\n",
       "      <td>0.0</td>\n",
       "      <td>0.0</td>\n",
       "      <td>1.0</td>\n",
       "      <td>[]</td>\n",
       "      <td>1890</td>\n",
       "    </tr>\n",
       "    <tr>\n",
       "      <th>39954</th>\n",
       "      <td>Monkeyshines, No. 3</td>\n",
       "      <td>1890-11-21</td>\n",
       "      <td>0.0</td>\n",
       "      <td>0.0</td>\n",
       "      <td>1.0</td>\n",
       "      <td>[]</td>\n",
       "      <td>1890</td>\n",
       "    </tr>\n",
       "    <tr>\n",
       "      <th>34935</th>\n",
       "      <td>Monkeyshines, No. 1</td>\n",
       "      <td>1890-11-21</td>\n",
       "      <td>0.0</td>\n",
       "      <td>0.0</td>\n",
       "      <td>1.0</td>\n",
       "      <td>[{'id': 35, 'name': 'Comedy'}]</td>\n",
       "      <td>1890</td>\n",
       "    </tr>\n",
       "    <tr>\n",
       "      <th>34939</th>\n",
       "      <td>London's Trafalgar Square</td>\n",
       "      <td>1890-01-01</td>\n",
       "      <td>0.0</td>\n",
       "      <td>0.0</td>\n",
       "      <td>1.0</td>\n",
       "      <td>[{'id': 99, 'name': 'Documentary'}]</td>\n",
       "      <td>1890</td>\n",
       "    </tr>\n",
       "  </tbody>\n",
       "</table>\n",
       "</div>"
      ],
      "text/plain": [
       "                               title release_date  budget  revenue  runtime  \\\n",
       "34940               Passage of Venus   1874-12-09     0.0      0.0      1.0   \n",
       "34937     Sallie Gardner at a Gallop   1878-06-14     0.0      0.0      1.0   \n",
       "41602                Buffalo Running   1883-11-19     0.0      0.0      1.0   \n",
       "34933    Man Walking Around a Corner   1887-08-18     0.0      0.0      1.0   \n",
       "34938  Traffic Crossing Leeds Bridge   1888-10-15     0.0      0.0      1.0   \n",
       "34934               Accordion Player   1888-01-01     0.0      0.0      1.0   \n",
       "34936            Monkeyshines, No. 2   1890-11-21     0.0      0.0      1.0   \n",
       "39954            Monkeyshines, No. 3   1890-11-21     0.0      0.0      1.0   \n",
       "34935            Monkeyshines, No. 1   1890-11-21     0.0      0.0      1.0   \n",
       "34939      London's Trafalgar Square   1890-01-01     0.0      0.0      1.0   \n",
       "\n",
       "                                    genres  year  \n",
       "34940  [{'id': 99, 'name': 'Documentary'}]  1874  \n",
       "34937  [{'id': 99, 'name': 'Documentary'}]  1878  \n",
       "41602  [{'id': 99, 'name': 'Documentary'}]  1883  \n",
       "34933  [{'id': 99, 'name': 'Documentary'}]  1887  \n",
       "34938  [{'id': 99, 'name': 'Documentary'}]  1888  \n",
       "34934  [{'id': 99, 'name': 'Documentary'}]  1888  \n",
       "34936                                   []  1890  \n",
       "39954                                   []  1890  \n",
       "34935       [{'id': 35, 'name': 'Comedy'}]  1890  \n",
       "34939  [{'id': 99, 'name': 'Documentary'}]  1890  "
      ]
     },
     "execution_count": 24,
     "metadata": {},
     "output_type": "execute_result"
    }
   ],
   "source": [
    "movie_df.head(10)"
   ]
  },
  {
   "cell_type": "markdown",
   "metadata": {},
   "source": [
    "Looking at the dataset we can see that the oldest movie is 'Passage of Venus' which was released on 1874-12-09."
   ]
  },
  {
   "cell_type": "markdown",
   "metadata": {},
   "source": [
    "We can even find which were the most successful movies of all time. To do this we'll use the sort_values() method with an additional asceding=False parameter to sort DataFrame in descending order"
   ]
  },
  {
   "cell_type": "code",
   "execution_count": 25,
   "metadata": {},
   "outputs": [],
   "source": [
    "movie_df = movie_df.sort_values('revenue', ascending=False)"
   ]
  },
  {
   "cell_type": "code",
   "execution_count": 26,
   "metadata": {},
   "outputs": [
    {
     "data": {
      "text/html": [
       "<div>\n",
       "<style scoped>\n",
       "    .dataframe tbody tr th:only-of-type {\n",
       "        vertical-align: middle;\n",
       "    }\n",
       "\n",
       "    .dataframe tbody tr th {\n",
       "        vertical-align: top;\n",
       "    }\n",
       "\n",
       "    .dataframe thead th {\n",
       "        text-align: right;\n",
       "    }\n",
       "</style>\n",
       "<table border=\"1\" class=\"dataframe\">\n",
       "  <thead>\n",
       "    <tr style=\"text-align: right;\">\n",
       "      <th></th>\n",
       "      <th>title</th>\n",
       "      <th>release_date</th>\n",
       "      <th>budget</th>\n",
       "      <th>revenue</th>\n",
       "      <th>runtime</th>\n",
       "      <th>genres</th>\n",
       "      <th>year</th>\n",
       "    </tr>\n",
       "  </thead>\n",
       "  <tbody>\n",
       "    <tr>\n",
       "      <th>14551</th>\n",
       "      <td>Avatar</td>\n",
       "      <td>2009-12-10</td>\n",
       "      <td>237000000.0</td>\n",
       "      <td>2.787965e+09</td>\n",
       "      <td>162.0</td>\n",
       "      <td>[{'id': 28, 'name': 'Action'}, {'id': 12, 'nam...</td>\n",
       "      <td>2009</td>\n",
       "    </tr>\n",
       "    <tr>\n",
       "      <th>26555</th>\n",
       "      <td>Star Wars: The Force Awakens</td>\n",
       "      <td>2015-12-15</td>\n",
       "      <td>245000000.0</td>\n",
       "      <td>2.068224e+09</td>\n",
       "      <td>136.0</td>\n",
       "      <td>[{'id': 28, 'name': 'Action'}, {'id': 12, 'nam...</td>\n",
       "      <td>2015</td>\n",
       "    </tr>\n",
       "    <tr>\n",
       "      <th>1639</th>\n",
       "      <td>Titanic</td>\n",
       "      <td>1997-11-18</td>\n",
       "      <td>200000000.0</td>\n",
       "      <td>1.845034e+09</td>\n",
       "      <td>194.0</td>\n",
       "      <td>[{'id': 18, 'name': 'Drama'}, {'id': 10749, 'n...</td>\n",
       "      <td>1997</td>\n",
       "    </tr>\n",
       "    <tr>\n",
       "      <th>17818</th>\n",
       "      <td>The Avengers</td>\n",
       "      <td>2012-04-25</td>\n",
       "      <td>220000000.0</td>\n",
       "      <td>1.519558e+09</td>\n",
       "      <td>143.0</td>\n",
       "      <td>[{'id': 878, 'name': 'Science Fiction'}, {'id'...</td>\n",
       "      <td>2012</td>\n",
       "    </tr>\n",
       "    <tr>\n",
       "      <th>25084</th>\n",
       "      <td>Jurassic World</td>\n",
       "      <td>2015-06-09</td>\n",
       "      <td>150000000.0</td>\n",
       "      <td>1.513529e+09</td>\n",
       "      <td>124.0</td>\n",
       "      <td>[{'id': 28, 'name': 'Action'}, {'id': 12, 'nam...</td>\n",
       "      <td>2015</td>\n",
       "    </tr>\n",
       "  </tbody>\n",
       "</table>\n",
       "</div>"
      ],
      "text/plain": [
       "                              title release_date       budget       revenue  \\\n",
       "14551                        Avatar   2009-12-10  237000000.0  2.787965e+09   \n",
       "26555  Star Wars: The Force Awakens   2015-12-15  245000000.0  2.068224e+09   \n",
       "1639                        Titanic   1997-11-18  200000000.0  1.845034e+09   \n",
       "17818                  The Avengers   2012-04-25  220000000.0  1.519558e+09   \n",
       "25084                Jurassic World   2015-06-09  150000000.0  1.513529e+09   \n",
       "\n",
       "       runtime                                             genres  year  \n",
       "14551    162.0  [{'id': 28, 'name': 'Action'}, {'id': 12, 'nam...  2009  \n",
       "26555    136.0  [{'id': 28, 'name': 'Action'}, {'id': 12, 'nam...  2015  \n",
       "1639     194.0  [{'id': 18, 'name': 'Drama'}, {'id': 10749, 'n...  1997  \n",
       "17818    143.0  [{'id': 878, 'name': 'Science Fiction'}, {'id'...  2012  \n",
       "25084    124.0  [{'id': 28, 'name': 'Action'}, {'id': 12, 'nam...  2015  "
      ]
     },
     "execution_count": 26,
     "metadata": {},
     "output_type": "execute_result"
    }
   ],
   "source": [
    "movie_df.head()"
   ]
  },
  {
   "cell_type": "markdown",
   "metadata": {},
   "source": [
    "From the output given we conclude that the most succesfull released movie was 'Avatar' which a revenue of 2.78 $billion."
   ]
  },
  {
   "cell_type": "markdown",
   "metadata": {},
   "source": [
    "We can filter out movies from the DataFrame that satisfies a certain condition or criteria. For instance, we only want movies that earned more than $1 billion. Pandas makes this possible using its Boolean indexing feature."
   ]
  },
  {
   "cell_type": "code",
   "execution_count": 27,
   "metadata": {},
   "outputs": [],
   "source": [
    "# Get all movies that earned more than $1 billion\n",
    "movie_dataset1 = movie_df[movie_df['revenue'] > 1e9]"
   ]
  },
  {
   "cell_type": "code",
   "execution_count": 28,
   "metadata": {},
   "outputs": [
    {
     "data": {
      "text/html": [
       "<div>\n",
       "<style scoped>\n",
       "    .dataframe tbody tr th:only-of-type {\n",
       "        vertical-align: middle;\n",
       "    }\n",
       "\n",
       "    .dataframe tbody tr th {\n",
       "        vertical-align: top;\n",
       "    }\n",
       "\n",
       "    .dataframe thead th {\n",
       "        text-align: right;\n",
       "    }\n",
       "</style>\n",
       "<table border=\"1\" class=\"dataframe\">\n",
       "  <thead>\n",
       "    <tr style=\"text-align: right;\">\n",
       "      <th></th>\n",
       "      <th>title</th>\n",
       "      <th>release_date</th>\n",
       "      <th>budget</th>\n",
       "      <th>revenue</th>\n",
       "      <th>runtime</th>\n",
       "      <th>genres</th>\n",
       "      <th>year</th>\n",
       "    </tr>\n",
       "  </thead>\n",
       "  <tbody>\n",
       "    <tr>\n",
       "      <th>14551</th>\n",
       "      <td>Avatar</td>\n",
       "      <td>2009-12-10</td>\n",
       "      <td>237000000.0</td>\n",
       "      <td>2.787965e+09</td>\n",
       "      <td>162.0</td>\n",
       "      <td>[{'id': 28, 'name': 'Action'}, {'id': 12, 'nam...</td>\n",
       "      <td>2009</td>\n",
       "    </tr>\n",
       "    <tr>\n",
       "      <th>26555</th>\n",
       "      <td>Star Wars: The Force Awakens</td>\n",
       "      <td>2015-12-15</td>\n",
       "      <td>245000000.0</td>\n",
       "      <td>2.068224e+09</td>\n",
       "      <td>136.0</td>\n",
       "      <td>[{'id': 28, 'name': 'Action'}, {'id': 12, 'nam...</td>\n",
       "      <td>2015</td>\n",
       "    </tr>\n",
       "    <tr>\n",
       "      <th>1639</th>\n",
       "      <td>Titanic</td>\n",
       "      <td>1997-11-18</td>\n",
       "      <td>200000000.0</td>\n",
       "      <td>1.845034e+09</td>\n",
       "      <td>194.0</td>\n",
       "      <td>[{'id': 18, 'name': 'Drama'}, {'id': 10749, 'n...</td>\n",
       "      <td>1997</td>\n",
       "    </tr>\n",
       "    <tr>\n",
       "      <th>17818</th>\n",
       "      <td>The Avengers</td>\n",
       "      <td>2012-04-25</td>\n",
       "      <td>220000000.0</td>\n",
       "      <td>1.519558e+09</td>\n",
       "      <td>143.0</td>\n",
       "      <td>[{'id': 878, 'name': 'Science Fiction'}, {'id'...</td>\n",
       "      <td>2012</td>\n",
       "    </tr>\n",
       "    <tr>\n",
       "      <th>25084</th>\n",
       "      <td>Jurassic World</td>\n",
       "      <td>2015-06-09</td>\n",
       "      <td>150000000.0</td>\n",
       "      <td>1.513529e+09</td>\n",
       "      <td>124.0</td>\n",
       "      <td>[{'id': 28, 'name': 'Action'}, {'id': 12, 'nam...</td>\n",
       "      <td>2015</td>\n",
       "    </tr>\n",
       "    <tr>\n",
       "      <th>28830</th>\n",
       "      <td>Furious 7</td>\n",
       "      <td>2015-04-01</td>\n",
       "      <td>190000000.0</td>\n",
       "      <td>1.506249e+09</td>\n",
       "      <td>137.0</td>\n",
       "      <td>[{'id': 28, 'name': 'Action'}]</td>\n",
       "      <td>2015</td>\n",
       "    </tr>\n",
       "    <tr>\n",
       "      <th>26558</th>\n",
       "      <td>Avengers: Age of Ultron</td>\n",
       "      <td>2015-04-22</td>\n",
       "      <td>280000000.0</td>\n",
       "      <td>1.405404e+09</td>\n",
       "      <td>141.0</td>\n",
       "      <td>[{'id': 28, 'name': 'Action'}, {'id': 12, 'nam...</td>\n",
       "      <td>2015</td>\n",
       "    </tr>\n",
       "    <tr>\n",
       "      <th>17437</th>\n",
       "      <td>Harry Potter and the Deathly Hallows: Part 2</td>\n",
       "      <td>2011-07-07</td>\n",
       "      <td>125000000.0</td>\n",
       "      <td>1.342000e+09</td>\n",
       "      <td>130.0</td>\n",
       "      <td>[{'id': 10751, 'name': 'Family'}, {'id': 14, '...</td>\n",
       "      <td>2011</td>\n",
       "    </tr>\n",
       "    <tr>\n",
       "      <th>22110</th>\n",
       "      <td>Frozen</td>\n",
       "      <td>2013-11-27</td>\n",
       "      <td>150000000.0</td>\n",
       "      <td>1.274219e+09</td>\n",
       "      <td>102.0</td>\n",
       "      <td>[{'id': 16, 'name': 'Animation'}, {'id': 12, '...</td>\n",
       "      <td>2013</td>\n",
       "    </tr>\n",
       "    <tr>\n",
       "      <th>42222</th>\n",
       "      <td>Beauty and the Beast</td>\n",
       "      <td>2017-03-16</td>\n",
       "      <td>160000000.0</td>\n",
       "      <td>1.262886e+09</td>\n",
       "      <td>129.0</td>\n",
       "      <td>[{'id': 10751, 'name': 'Family'}, {'id': 14, '...</td>\n",
       "      <td>2017</td>\n",
       "    </tr>\n",
       "    <tr>\n",
       "      <th>43255</th>\n",
       "      <td>The Fate of the Furious</td>\n",
       "      <td>2017-04-12</td>\n",
       "      <td>250000000.0</td>\n",
       "      <td>1.238765e+09</td>\n",
       "      <td>136.0</td>\n",
       "      <td>[{'id': 28, 'name': 'Action'}, {'id': 80, 'nam...</td>\n",
       "      <td>2017</td>\n",
       "    </tr>\n",
       "    <tr>\n",
       "      <th>20830</th>\n",
       "      <td>Iron Man 3</td>\n",
       "      <td>2013-04-18</td>\n",
       "      <td>200000000.0</td>\n",
       "      <td>1.215440e+09</td>\n",
       "      <td>130.0</td>\n",
       "      <td>[{'id': 28, 'name': 'Action'}, {'id': 12, 'nam...</td>\n",
       "      <td>2013</td>\n",
       "    </tr>\n",
       "    <tr>\n",
       "      <th>30700</th>\n",
       "      <td>Minions</td>\n",
       "      <td>2015-06-17</td>\n",
       "      <td>74000000.0</td>\n",
       "      <td>1.156731e+09</td>\n",
       "      <td>91.0</td>\n",
       "      <td>[{'id': 10751, 'name': 'Family'}, {'id': 16, '...</td>\n",
       "      <td>2015</td>\n",
       "    </tr>\n",
       "    <tr>\n",
       "      <th>26567</th>\n",
       "      <td>Captain America: Civil War</td>\n",
       "      <td>2016-04-27</td>\n",
       "      <td>250000000.0</td>\n",
       "      <td>1.153304e+09</td>\n",
       "      <td>147.0</td>\n",
       "      <td>[{'id': 12, 'name': 'Adventure'}, {'id': 28, '...</td>\n",
       "      <td>2016</td>\n",
       "    </tr>\n",
       "    <tr>\n",
       "      <th>17293</th>\n",
       "      <td>Transformers: Dark of the Moon</td>\n",
       "      <td>2011-06-28</td>\n",
       "      <td>195000000.0</td>\n",
       "      <td>1.123747e+09</td>\n",
       "      <td>154.0</td>\n",
       "      <td>[{'id': 28, 'name': 'Action'}, {'id': 878, 'na...</td>\n",
       "      <td>2011</td>\n",
       "    </tr>\n",
       "    <tr>\n",
       "      <th>7000</th>\n",
       "      <td>The Lord of the Rings: The Return of the King</td>\n",
       "      <td>2003-12-01</td>\n",
       "      <td>94000000.0</td>\n",
       "      <td>1.118889e+09</td>\n",
       "      <td>201.0</td>\n",
       "      <td>[{'id': 12, 'name': 'Adventure'}, {'id': 14, '...</td>\n",
       "      <td>2003</td>\n",
       "    </tr>\n",
       "    <tr>\n",
       "      <th>19261</th>\n",
       "      <td>Skyfall</td>\n",
       "      <td>2012-10-25</td>\n",
       "      <td>200000000.0</td>\n",
       "      <td>1.108561e+09</td>\n",
       "      <td>143.0</td>\n",
       "      <td>[{'id': 28, 'name': 'Action'}, {'id': 12, 'nam...</td>\n",
       "      <td>2012</td>\n",
       "    </tr>\n",
       "    <tr>\n",
       "      <th>23617</th>\n",
       "      <td>Transformers: Age of Extinction</td>\n",
       "      <td>2014-06-25</td>\n",
       "      <td>210000000.0</td>\n",
       "      <td>1.091405e+09</td>\n",
       "      <td>165.0</td>\n",
       "      <td>[{'id': 878, 'name': 'Science Fiction'}, {'id'...</td>\n",
       "      <td>2014</td>\n",
       "    </tr>\n",
       "    <tr>\n",
       "      <th>18252</th>\n",
       "      <td>The Dark Knight Rises</td>\n",
       "      <td>2012-07-16</td>\n",
       "      <td>250000000.0</td>\n",
       "      <td>1.084939e+09</td>\n",
       "      <td>165.0</td>\n",
       "      <td>[{'id': 28, 'name': 'Action'}, {'id': 80, 'nam...</td>\n",
       "      <td>2012</td>\n",
       "    </tr>\n",
       "    <tr>\n",
       "      <th>15348</th>\n",
       "      <td>Toy Story 3</td>\n",
       "      <td>2010-06-16</td>\n",
       "      <td>200000000.0</td>\n",
       "      <td>1.066970e+09</td>\n",
       "      <td>103.0</td>\n",
       "      <td>[{'id': 16, 'name': 'Animation'}, {'id': 10751...</td>\n",
       "      <td>2010</td>\n",
       "    </tr>\n",
       "    <tr>\n",
       "      <th>11008</th>\n",
       "      <td>Pirates of the Caribbean: Dead Man's Chest</td>\n",
       "      <td>2006-06-20</td>\n",
       "      <td>200000000.0</td>\n",
       "      <td>1.065660e+09</td>\n",
       "      <td>151.0</td>\n",
       "      <td>[{'id': 12, 'name': 'Adventure'}, {'id': 14, '...</td>\n",
       "      <td>2006</td>\n",
       "    </tr>\n",
       "    <tr>\n",
       "      <th>41489</th>\n",
       "      <td>Rogue One: A Star Wars Story</td>\n",
       "      <td>2016-12-14</td>\n",
       "      <td>200000000.0</td>\n",
       "      <td>1.056057e+09</td>\n",
       "      <td>133.0</td>\n",
       "      <td>[{'id': 28, 'name': 'Action'}, {'id': 12, 'nam...</td>\n",
       "      <td>2016</td>\n",
       "    </tr>\n",
       "    <tr>\n",
       "      <th>17124</th>\n",
       "      <td>Pirates of the Caribbean: On Stranger Tides</td>\n",
       "      <td>2011-05-14</td>\n",
       "      <td>380000000.0</td>\n",
       "      <td>1.045714e+09</td>\n",
       "      <td>136.0</td>\n",
       "      <td>[{'id': 12, 'name': 'Adventure'}, {'id': 28, '...</td>\n",
       "      <td>2011</td>\n",
       "    </tr>\n",
       "    <tr>\n",
       "      <th>38176</th>\n",
       "      <td>Finding Dory</td>\n",
       "      <td>2016-06-16</td>\n",
       "      <td>200000000.0</td>\n",
       "      <td>1.028571e+09</td>\n",
       "      <td>97.0</td>\n",
       "      <td>[{'id': 12, 'name': 'Adventure'}, {'id': 16, '...</td>\n",
       "      <td>2016</td>\n",
       "    </tr>\n",
       "    <tr>\n",
       "      <th>14892</th>\n",
       "      <td>Alice in Wonderland</td>\n",
       "      <td>2010-03-03</td>\n",
       "      <td>200000000.0</td>\n",
       "      <td>1.025491e+09</td>\n",
       "      <td>108.0</td>\n",
       "      <td>[{'id': 10751, 'name': 'Family'}, {'id': 14, '...</td>\n",
       "      <td>2010</td>\n",
       "    </tr>\n",
       "    <tr>\n",
       "      <th>36253</th>\n",
       "      <td>Zootopia</td>\n",
       "      <td>2016-02-11</td>\n",
       "      <td>150000000.0</td>\n",
       "      <td>1.023784e+09</td>\n",
       "      <td>108.0</td>\n",
       "      <td>[{'id': 16, 'name': 'Animation'}, {'id': 12, '...</td>\n",
       "      <td>2016</td>\n",
       "    </tr>\n",
       "    <tr>\n",
       "      <th>19971</th>\n",
       "      <td>The Hobbit: An Unexpected Journey</td>\n",
       "      <td>2012-11-26</td>\n",
       "      <td>250000000.0</td>\n",
       "      <td>1.021104e+09</td>\n",
       "      <td>169.0</td>\n",
       "      <td>[{'id': 12, 'name': 'Adventure'}, {'id': 14, '...</td>\n",
       "      <td>2012</td>\n",
       "    </tr>\n",
       "    <tr>\n",
       "      <th>44009</th>\n",
       "      <td>Despicable Me 3</td>\n",
       "      <td>2017-06-15</td>\n",
       "      <td>80000000.0</td>\n",
       "      <td>1.020063e+09</td>\n",
       "      <td>96.0</td>\n",
       "      <td>[{'id': 28, 'name': 'Action'}, {'id': 16, 'nam...</td>\n",
       "      <td>2017</td>\n",
       "    </tr>\n",
       "    <tr>\n",
       "      <th>12481</th>\n",
       "      <td>The Dark Knight</td>\n",
       "      <td>2008-07-16</td>\n",
       "      <td>185000000.0</td>\n",
       "      <td>1.004558e+09</td>\n",
       "      <td>152.0</td>\n",
       "      <td>[{'id': 18, 'name': 'Drama'}, {'id': 28, 'name...</td>\n",
       "      <td>2008</td>\n",
       "    </tr>\n",
       "  </tbody>\n",
       "</table>\n",
       "</div>"
      ],
      "text/plain": [
       "                                               title release_date  \\\n",
       "14551                                         Avatar   2009-12-10   \n",
       "26555                   Star Wars: The Force Awakens   2015-12-15   \n",
       "1639                                         Titanic   1997-11-18   \n",
       "17818                                   The Avengers   2012-04-25   \n",
       "25084                                 Jurassic World   2015-06-09   \n",
       "28830                                      Furious 7   2015-04-01   \n",
       "26558                        Avengers: Age of Ultron   2015-04-22   \n",
       "17437   Harry Potter and the Deathly Hallows: Part 2   2011-07-07   \n",
       "22110                                         Frozen   2013-11-27   \n",
       "42222                           Beauty and the Beast   2017-03-16   \n",
       "43255                        The Fate of the Furious   2017-04-12   \n",
       "20830                                     Iron Man 3   2013-04-18   \n",
       "30700                                        Minions   2015-06-17   \n",
       "26567                     Captain America: Civil War   2016-04-27   \n",
       "17293                 Transformers: Dark of the Moon   2011-06-28   \n",
       "7000   The Lord of the Rings: The Return of the King   2003-12-01   \n",
       "19261                                        Skyfall   2012-10-25   \n",
       "23617                Transformers: Age of Extinction   2014-06-25   \n",
       "18252                          The Dark Knight Rises   2012-07-16   \n",
       "15348                                    Toy Story 3   2010-06-16   \n",
       "11008     Pirates of the Caribbean: Dead Man's Chest   2006-06-20   \n",
       "41489                   Rogue One: A Star Wars Story   2016-12-14   \n",
       "17124    Pirates of the Caribbean: On Stranger Tides   2011-05-14   \n",
       "38176                                   Finding Dory   2016-06-16   \n",
       "14892                            Alice in Wonderland   2010-03-03   \n",
       "36253                                       Zootopia   2016-02-11   \n",
       "19971              The Hobbit: An Unexpected Journey   2012-11-26   \n",
       "44009                                Despicable Me 3   2017-06-15   \n",
       "12481                                The Dark Knight   2008-07-16   \n",
       "\n",
       "            budget       revenue  runtime  \\\n",
       "14551  237000000.0  2.787965e+09    162.0   \n",
       "26555  245000000.0  2.068224e+09    136.0   \n",
       "1639   200000000.0  1.845034e+09    194.0   \n",
       "17818  220000000.0  1.519558e+09    143.0   \n",
       "25084  150000000.0  1.513529e+09    124.0   \n",
       "28830  190000000.0  1.506249e+09    137.0   \n",
       "26558  280000000.0  1.405404e+09    141.0   \n",
       "17437  125000000.0  1.342000e+09    130.0   \n",
       "22110  150000000.0  1.274219e+09    102.0   \n",
       "42222  160000000.0  1.262886e+09    129.0   \n",
       "43255  250000000.0  1.238765e+09    136.0   \n",
       "20830  200000000.0  1.215440e+09    130.0   \n",
       "30700   74000000.0  1.156731e+09     91.0   \n",
       "26567  250000000.0  1.153304e+09    147.0   \n",
       "17293  195000000.0  1.123747e+09    154.0   \n",
       "7000    94000000.0  1.118889e+09    201.0   \n",
       "19261  200000000.0  1.108561e+09    143.0   \n",
       "23617  210000000.0  1.091405e+09    165.0   \n",
       "18252  250000000.0  1.084939e+09    165.0   \n",
       "15348  200000000.0  1.066970e+09    103.0   \n",
       "11008  200000000.0  1.065660e+09    151.0   \n",
       "41489  200000000.0  1.056057e+09    133.0   \n",
       "17124  380000000.0  1.045714e+09    136.0   \n",
       "38176  200000000.0  1.028571e+09     97.0   \n",
       "14892  200000000.0  1.025491e+09    108.0   \n",
       "36253  150000000.0  1.023784e+09    108.0   \n",
       "19971  250000000.0  1.021104e+09    169.0   \n",
       "44009   80000000.0  1.020063e+09     96.0   \n",
       "12481  185000000.0  1.004558e+09    152.0   \n",
       "\n",
       "                                                  genres  year  \n",
       "14551  [{'id': 28, 'name': 'Action'}, {'id': 12, 'nam...  2009  \n",
       "26555  [{'id': 28, 'name': 'Action'}, {'id': 12, 'nam...  2015  \n",
       "1639   [{'id': 18, 'name': 'Drama'}, {'id': 10749, 'n...  1997  \n",
       "17818  [{'id': 878, 'name': 'Science Fiction'}, {'id'...  2012  \n",
       "25084  [{'id': 28, 'name': 'Action'}, {'id': 12, 'nam...  2015  \n",
       "28830                     [{'id': 28, 'name': 'Action'}]  2015  \n",
       "26558  [{'id': 28, 'name': 'Action'}, {'id': 12, 'nam...  2015  \n",
       "17437  [{'id': 10751, 'name': 'Family'}, {'id': 14, '...  2011  \n",
       "22110  [{'id': 16, 'name': 'Animation'}, {'id': 12, '...  2013  \n",
       "42222  [{'id': 10751, 'name': 'Family'}, {'id': 14, '...  2017  \n",
       "43255  [{'id': 28, 'name': 'Action'}, {'id': 80, 'nam...  2017  \n",
       "20830  [{'id': 28, 'name': 'Action'}, {'id': 12, 'nam...  2013  \n",
       "30700  [{'id': 10751, 'name': 'Family'}, {'id': 16, '...  2015  \n",
       "26567  [{'id': 12, 'name': 'Adventure'}, {'id': 28, '...  2016  \n",
       "17293  [{'id': 28, 'name': 'Action'}, {'id': 878, 'na...  2011  \n",
       "7000   [{'id': 12, 'name': 'Adventure'}, {'id': 14, '...  2003  \n",
       "19261  [{'id': 28, 'name': 'Action'}, {'id': 12, 'nam...  2012  \n",
       "23617  [{'id': 878, 'name': 'Science Fiction'}, {'id'...  2014  \n",
       "18252  [{'id': 28, 'name': 'Action'}, {'id': 80, 'nam...  2012  \n",
       "15348  [{'id': 16, 'name': 'Animation'}, {'id': 10751...  2010  \n",
       "11008  [{'id': 12, 'name': 'Adventure'}, {'id': 14, '...  2006  \n",
       "41489  [{'id': 28, 'name': 'Action'}, {'id': 12, 'nam...  2016  \n",
       "17124  [{'id': 12, 'name': 'Adventure'}, {'id': 28, '...  2011  \n",
       "38176  [{'id': 12, 'name': 'Adventure'}, {'id': 16, '...  2016  \n",
       "14892  [{'id': 10751, 'name': 'Family'}, {'id': 14, '...  2010  \n",
       "36253  [{'id': 16, 'name': 'Animation'}, {'id': 12, '...  2016  \n",
       "19971  [{'id': 12, 'name': 'Adventure'}, {'id': 14, '...  2012  \n",
       "44009  [{'id': 28, 'name': 'Action'}, {'id': 16, 'nam...  2017  \n",
       "12481  [{'id': 18, 'name': 'Drama'}, {'id': 28, 'name...  2008  "
      ]
     },
     "execution_count": 28,
     "metadata": {},
     "output_type": "execute_result"
    }
   ],
   "source": [
    "movie_dataset1"
   ]
  },
  {
   "cell_type": "markdown",
   "metadata": {},
   "source": [
    "It is possible to apply even multiple conditions. For instance, let's say we only wanted movies that earned more than \n",
    "$1 billion, but where the budget less than $150 million."
   ]
  },
  {
   "cell_type": "code",
   "execution_count": 29,
   "metadata": {},
   "outputs": [],
   "source": [
    "movie_dataset2 = movie_df[(movie_df['revenue'] > 1e9) & (movie_df['budget'] < 1.5e8)]"
   ]
  },
  {
   "cell_type": "code",
   "execution_count": 30,
   "metadata": {},
   "outputs": [
    {
     "data": {
      "text/html": [
       "<div>\n",
       "<style scoped>\n",
       "    .dataframe tbody tr th:only-of-type {\n",
       "        vertical-align: middle;\n",
       "    }\n",
       "\n",
       "    .dataframe tbody tr th {\n",
       "        vertical-align: top;\n",
       "    }\n",
       "\n",
       "    .dataframe thead th {\n",
       "        text-align: right;\n",
       "    }\n",
       "</style>\n",
       "<table border=\"1\" class=\"dataframe\">\n",
       "  <thead>\n",
       "    <tr style=\"text-align: right;\">\n",
       "      <th></th>\n",
       "      <th>title</th>\n",
       "      <th>release_date</th>\n",
       "      <th>budget</th>\n",
       "      <th>revenue</th>\n",
       "      <th>runtime</th>\n",
       "      <th>genres</th>\n",
       "      <th>year</th>\n",
       "    </tr>\n",
       "  </thead>\n",
       "  <tbody>\n",
       "    <tr>\n",
       "      <th>17437</th>\n",
       "      <td>Harry Potter and the Deathly Hallows: Part 2</td>\n",
       "      <td>2011-07-07</td>\n",
       "      <td>125000000.0</td>\n",
       "      <td>1.342000e+09</td>\n",
       "      <td>130.0</td>\n",
       "      <td>[{'id': 10751, 'name': 'Family'}, {'id': 14, '...</td>\n",
       "      <td>2011</td>\n",
       "    </tr>\n",
       "    <tr>\n",
       "      <th>30700</th>\n",
       "      <td>Minions</td>\n",
       "      <td>2015-06-17</td>\n",
       "      <td>74000000.0</td>\n",
       "      <td>1.156731e+09</td>\n",
       "      <td>91.0</td>\n",
       "      <td>[{'id': 10751, 'name': 'Family'}, {'id': 16, '...</td>\n",
       "      <td>2015</td>\n",
       "    </tr>\n",
       "    <tr>\n",
       "      <th>7000</th>\n",
       "      <td>The Lord of the Rings: The Return of the King</td>\n",
       "      <td>2003-12-01</td>\n",
       "      <td>94000000.0</td>\n",
       "      <td>1.118889e+09</td>\n",
       "      <td>201.0</td>\n",
       "      <td>[{'id': 12, 'name': 'Adventure'}, {'id': 14, '...</td>\n",
       "      <td>2003</td>\n",
       "    </tr>\n",
       "    <tr>\n",
       "      <th>44009</th>\n",
       "      <td>Despicable Me 3</td>\n",
       "      <td>2017-06-15</td>\n",
       "      <td>80000000.0</td>\n",
       "      <td>1.020063e+09</td>\n",
       "      <td>96.0</td>\n",
       "      <td>[{'id': 28, 'name': 'Action'}, {'id': 16, 'nam...</td>\n",
       "      <td>2017</td>\n",
       "    </tr>\n",
       "  </tbody>\n",
       "</table>\n",
       "</div>"
      ],
      "text/plain": [
       "                                               title release_date  \\\n",
       "17437   Harry Potter and the Deathly Hallows: Part 2   2011-07-07   \n",
       "30700                                        Minions   2015-06-17   \n",
       "7000   The Lord of the Rings: The Return of the King   2003-12-01   \n",
       "44009                                Despicable Me 3   2017-06-15   \n",
       "\n",
       "            budget       revenue  runtime  \\\n",
       "17437  125000000.0  1.342000e+09    130.0   \n",
       "30700   74000000.0  1.156731e+09     91.0   \n",
       "7000    94000000.0  1.118889e+09    201.0   \n",
       "44009   80000000.0  1.020063e+09     96.0   \n",
       "\n",
       "                                                  genres  year  \n",
       "17437  [{'id': 10751, 'name': 'Family'}, {'id': 14, '...  2011  \n",
       "30700  [{'id': 10751, 'name': 'Family'}, {'id': 16, '...  2015  \n",
       "7000   [{'id': 12, 'name': 'Adventure'}, {'id': 14, '...  2003  \n",
       "44009  [{'id': 28, 'name': 'Action'}, {'id': 16, 'nam...  2017  "
      ]
     },
     "execution_count": 30,
     "metadata": {},
     "output_type": "execute_result"
    }
   ],
   "source": [
    "movie_dataset2"
   ]
  },
  {
   "cell_type": "markdown",
   "metadata": {},
   "source": [
    "As we can see only four movies make it into a list."
   ]
  },
  {
   "cell_type": "markdown",
   "metadata": {},
   "source": [
    "Next, we will take a look at the 'runtime' feature from the dataset and make a simple analysis on it. For example we can look at the shortest and longest-running movies of all time. "
   ]
  },
  {
   "cell_type": "code",
   "execution_count": 31,
   "metadata": {},
   "outputs": [],
   "source": [
    "# Get the runtime Series object\n",
    "runtime = movie_df['runtime']"
   ]
  },
  {
   "cell_type": "code",
   "execution_count": 32,
   "metadata": {},
   "outputs": [
    {
     "data": {
      "text/plain": [
       "1256.0"
      ]
     },
     "execution_count": 32,
     "metadata": {},
     "output_type": "execute_result"
    }
   ],
   "source": [
    "# Get the longest runtime of any movie\n",
    "runtime.max()"
   ]
  },
  {
   "cell_type": "code",
   "execution_count": 33,
   "metadata": {},
   "outputs": [
    {
     "data": {
      "text/plain": [
       "0.0"
      ]
     },
     "execution_count": 33,
     "metadata": {},
     "output_type": "execute_result"
    }
   ],
   "source": [
    "# Get the shortest runtime of any movie\n",
    "runtime.min()"
   ]
  },
  {
   "cell_type": "markdown",
   "metadata": {},
   "source": [
    "We can see that the longest movie runtime is more than 1256 minutes in lenghet while the shortest movie runtime is 0. Looking at the generated result indicates a strange result and needs a deeper inspection on that."
   ]
  },
  {
   "cell_type": "markdown",
   "metadata": {},
   "source": [
    "It is possible to calculate the mean and median of the Series in this way. "
   ]
  },
  {
   "cell_type": "code",
   "execution_count": 35,
   "metadata": {},
   "outputs": [],
   "source": [
    "# Get the budget Series object\n",
    "budget = movie_df['budget']"
   ]
  },
  {
   "cell_type": "code",
   "execution_count": 36,
   "metadata": {},
   "outputs": [
    {
     "data": {
      "text/plain": [
       "4224578.813474693"
      ]
     },
     "execution_count": 36,
     "metadata": {},
     "output_type": "execute_result"
    }
   ],
   "source": [
    "# Print the mean budget of the movies\n",
    "budget.mean()"
   ]
  },
  {
   "cell_type": "code",
   "execution_count": 37,
   "metadata": {},
   "outputs": [
    {
     "data": {
      "text/plain": [
       "0.0"
      ]
     },
     "execution_count": 37,
     "metadata": {},
     "output_type": "execute_result"
    }
   ],
   "source": [
    "# Print the median budget of the movies\n",
    "budget.median()"
   ]
  },
  {
   "cell_type": "markdown",
   "metadata": {},
   "source": [
    "Looking at the generated results we can see that the average budget of a movie is $4.2 million and the median budget is 0!. This suggests that at least half of the movies in our dataset have no budget at all. Like in the previous case, strange results deman closer inspection. It is highly likely that a zero budget indicates that the data is not available."
   ]
  },
  {
   "cell_type": "markdown",
   "metadata": {},
   "source": [
    "What is the revenue that the 90th-percentile movie generated? We can make use of the quantile function in order to determine this"
   ]
  },
  {
   "cell_type": "code",
   "execution_count": 39,
   "metadata": {},
   "outputs": [],
   "source": [
    "# Get the revenue Series object\n",
    "revenue = movie_df['revenue']"
   ]
  },
  {
   "cell_type": "code",
   "execution_count": 40,
   "metadata": {},
   "outputs": [
    {
     "data": {
      "text/plain": [
       "8267610.399999982"
      ]
     },
     "execution_count": 40,
     "metadata": {},
     "output_type": "execute_result"
    }
   ],
   "source": [
    "# Revenue generated by the 90th percentile movie\n",
    "revenue.quantile(0.90)"
   ]
  },
  {
   "cell_type": "markdown",
   "metadata": {},
   "source": [
    "Doing so quantile on the 'revenue' column, we get a result of $8.26 million. This indicates that only 10\\% of the movies in our dataset earned more than 8.26 million in revenue."
   ]
  },
  {
   "cell_type": "markdown",
   "metadata": {},
   "source": [
    "Let's find out the number of movies released each year. We do this using the value_counts() method on 'year' feature from the DataFrame"
   ]
  },
  {
   "cell_type": "code",
   "execution_count": 41,
   "metadata": {},
   "outputs": [
    {
     "data": {
      "text/plain": [
       "2014    1974\n",
       "2015    1905\n",
       "2013    1889\n",
       "2012    1722\n",
       "2011    1667\n",
       "2016    1604\n",
       "2009    1586\n",
       "2010    1501\n",
       "2008    1473\n",
       "2007    1320\n",
       "2006    1270\n",
       "2005    1125\n",
       "2004     992\n",
       "2002     905\n",
       "2003     882\n",
       "2001     865\n",
       "2000     789\n",
       "1999     723\n",
       "1998     722\n",
       "1997     661\n",
       "1996     633\n",
       "1995     599\n",
       "1994     544\n",
       "2017     532\n",
       "1993     489\n",
       "1988     467\n",
       "1987     462\n",
       "1992     453\n",
       "1989     439\n",
       "1990     427\n",
       "        ... \n",
       "1912      14\n",
       "1896      14\n",
       "1900      14\n",
       "1894      13\n",
       "1898      13\n",
       "1913      13\n",
       "1901      10\n",
       "1909      10\n",
       "1897       8\n",
       "1904       8\n",
       "1895       7\n",
       "1907       7\n",
       "1910       7\n",
       "1906       7\n",
       "1911       6\n",
       "1891       6\n",
       "1908       6\n",
       "2018       5\n",
       "1899       5\n",
       "1905       5\n",
       "1890       5\n",
       "1892       3\n",
       "1888       2\n",
       "1902       2\n",
       "1874       1\n",
       "1893       1\n",
       "1883       1\n",
       "1887       1\n",
       "1878       1\n",
       "2020       1\n",
       "Name: year, Length: 136, dtype: int64"
      ]
     },
     "execution_count": 41,
     "metadata": {},
     "output_type": "execute_result"
    }
   ],
   "source": [
    "# Get number of movies released each year\n",
    "movie_df['year'].value_counts()"
   ]
  },
  {
   "cell_type": "markdown",
   "metadata": {},
   "source": [
    "The generated result shows that in six years from our dataset we have only one movie as record, including (2020) while in 2014 we have the highest number with 1974 movies released."
   ]
  }
 ],
 "metadata": {
  "kernelspec": {
   "display_name": "Python 3",
   "language": "python",
   "name": "python3"
  },
  "language_info": {
   "codemirror_mode": {
    "name": "ipython",
    "version": 3
   },
   "file_extension": ".py",
   "mimetype": "text/x-python",
   "name": "python",
   "nbconvert_exporter": "python",
   "pygments_lexer": "ipython3",
   "version": "3.6.8"
  }
 },
 "nbformat": 4,
 "nbformat_minor": 2
}
